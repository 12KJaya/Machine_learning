{
 "cells": [
  {
   "cell_type": "markdown",
   "metadata": {},
   "source": [
    "# Gradient_Descent_And_Cost_Function"
   ]
  },
  {
   "cell_type": "code",
   "execution_count": 15,
   "metadata": {},
   "outputs": [],
   "source": [
    "import numpy as np"
   ]
  },
  {
   "cell_type": "code",
   "execution_count": 16,
   "metadata": {},
   "outputs": [],
   "source": [
    "def gradient_descent(x,y):\n",
    "    m_curr=b_curr=0\n",
    "    iteration=10\n",
    "    n=len(x)\n",
    "    Learning_rate=0.01\n",
    "    for i in range (iteration):\n",
    "        yp=m_curr*x+b_curr\n",
    "        cost=(1/n)*sum([val**2 for val in(y-yp)])\n",
    "        md=-(2/n)*sum(x*(y-yp))\n",
    "        bd=-(2/n)*sum(y-yp)\n",
    "        m_curr=m_curr-Learning_rate*bd\n",
    "        b_curr=b_curr-Learning_rate*bd\n",
    "        print(\"m{} ,b{},cost{} iteration{}\".format(m_curr,b_curr,cost,i))\n",
    "        pass"
   ]
  },
  {
   "cell_type": "code",
   "execution_count": 17,
   "metadata": {},
   "outputs": [],
   "source": [
    "x=np.array([1,2,3,4,5])\n",
    "y=np.array([5,7,9,11,13])"
   ]
  },
  {
   "cell_type": "code",
   "execution_count": 18,
   "metadata": {},
   "outputs": [
    {
     "name": "stdout",
     "output_type": "stream",
     "text": [
      "m0.18 ,b0.18,cost89.0 iteration0\n",
      "m0.3456 ,b0.3456,cost75.18319999999999 iteration1\n",
      "m0.49795200000000006 ,b0.49795200000000006,cost63.50190848 iteration2\n",
      "m0.6381158400000001 ,b0.6381158400000001,cost53.627051497471996 iteration3\n",
      "m0.7670665728000001 ,b0.7670665728000001,cost45.2801856546603 iteration4\n",
      "m0.8857012469760002 ,b0.8857012469760002,cost38.225714463928476 iteration5\n",
      "m0.9948451472179202 ,b0.9948451472179202,cost32.264300822027145 iteration6\n",
      "m1.0952575354404865 ,b1.0952575354404865,cost27.2272918275412 iteration7\n",
      "m1.1876369326052476 ,b1.1876369326052476,cost22.97200040566611 iteration8\n",
      "m1.2726259779968279 ,b1.2726259779968279,cost19.37771209796422 iteration9\n"
     ]
    }
   ],
   "source": [
    "gradient_descent(x,y)"
   ]
  }
 ],
 "metadata": {
  "kernelspec": {
   "display_name": "Python 3",
   "language": "python",
   "name": "python3"
  },
  "language_info": {
   "codemirror_mode": {
    "name": "ipython",
    "version": 3
   },
   "file_extension": ".py",
   "mimetype": "text/x-python",
   "name": "python",
   "nbconvert_exporter": "python",
   "pygments_lexer": "ipython3",
   "version": "3.7.3"
  }
 },
 "nbformat": 4,
 "nbformat_minor": 2
}
