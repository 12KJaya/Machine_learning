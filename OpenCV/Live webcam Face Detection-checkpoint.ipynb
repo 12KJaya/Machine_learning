{
 "cells": [
  {
   "cell_type": "code",
   "execution_count": 7,
   "metadata": {},
   "outputs": [],
   "source": [
    "import cv2\n",
    "xml = r'C:\\Users\\Jaya\\Documents\\Machine learning\\Machine learning\\machine learning part-2\\Open CV\\face.xml'  ## harcascade\n",
    "face_cascade = cv2.CascadeClassifier(xml)\n",
    "cam = cv2.VideoCapture(0)\n",
    "while True:\n",
    "    ret,frame=cam.read()\n",
    "    faces = face_cascade.detectMultiScale(frame,1.2,5)\n",
    "    for (x,y,w,h) in faces:\n",
    "        cv2.rectangle(frame,(x,y),(x+w,y+h),(255,0,0),2)\n",
    "    cv2.imshow(\"Faces In Webcam\",frame)\n",
    "    if cv2.waitKey(1)==13:\n",
    "        break\n",
    "cam.release()\n",
    "cv2.destroyAllWindows()"
   ]
  },
  {
   "cell_type": "code",
   "execution_count": 8,
   "metadata": {},
   "outputs": [],
   "source": [
    "import cv2\n",
    "xml = r'C:\\Users\\Jaya\\Documents\\Machine learning\\Machine learning\\machine learning part-2\\Open CV\\face.xml'  ## harcascade\n",
    "eye_xml = r'C:\\Users\\Jaya\\Documents\\Machine learning\\Machine learning\\machine learning part-2\\Open CV\\eye.xml' \n",
    "path = r'C:\\Users\\Jaya\\Documents\\Machine learning\\Machine learning\\machine learning part-2\\Open CV\\faces.jpg'\n",
    "img = cv2.imread(path)\n",
    "face_cascade = cv2.CascadeClassifier(xml)\n",
    "eye_cascade = cv2.CascadeClassifier(eye_xml)\n",
    "faces = face_cascade.detectMultiScale(img,1.2,5)\n",
    "for (x,y,w,h) in faces:\n",
    "    cv2.rectangle(img,(x,y),(x+w,y+h),(255,0,0),2)\n",
    "    my_face = img[y:y+h,x:x+w]\n",
    "    eyes = eye_cascade.detectMultiScale(my_face)\n",
    "    for (ex,ey,ew,eh) in eyes:\n",
    "        cv2.rectangle(my_face,(ex,ey),(ex+ew,ey+eh),(0,255,0),1)\n",
    "cv2.imshow(\"Faces\",img)\n",
    "cv2.waitKey(0)\n",
    "cv2.destroyAllWindows()"
   ]
  },
  {
   "cell_type": "code",
   "execution_count": 9,
   "metadata": {},
   "outputs": [],
   "source": [
    "import cv2\n",
    "xml = r'C:\\Users\\Jaya\\Documents\\Machine learning\\Machine learning\\machine learning part-2\\Open CV\\face.xml'  ## harcascade\n",
    "smile_xml =r'C:\\Users\\Jaya\\Documents\\Machine learning\\Machine learning\\machine learning part-2\\Open CV\\smile.xml' \n",
    "path = r'C:\\Users\\Jaya\\Documents\\Machine learning\\Machine learning\\machine learning part-2\\Open CV\\smiles.jpg'\n",
    "img = cv2.imread(path)\n",
    "face_cascade = cv2.CascadeClassifier(xml)\n",
    "smile_cascade = cv2.CascadeClassifier(smile_xml)\n",
    "faces = face_cascade.detectMultiScale(img,1.2,5)\n",
    "for (x,y,w,h) in faces:\n",
    "    cv2.rectangle(img,(x,y),(x+w,y+h),(255,0,0),2)\n",
    "    my_face = img[y:y+h,x:x+w]\n",
    "    smiles = smile_cascade.detectMultiScale(my_face,1.8,15)\n",
    "    for (sx,sy,sw,sh) in smiles:\n",
    "        cv2.rectangle(my_face,(sx,sy),(sx+sw,sy+sh),(0,255,0),1)\n",
    "cv2.imshow(\"Faces\",img)\n",
    "cv2.waitKey(0)\n",
    "cv2.destroyAllWindows()"
   ]
  }
 ],
 "metadata": {
  "kernelspec": {
   "display_name": "Python 3",
   "language": "python",
   "name": "python3"
  },
  "language_info": {
   "codemirror_mode": {
    "name": "ipython",
    "version": 3
   },
   "file_extension": ".py",
   "mimetype": "text/x-python",
   "name": "python",
   "nbconvert_exporter": "python",
   "pygments_lexer": "ipython3",
   "version": "3.7.3"
  }
 },
 "nbformat": 4,
 "nbformat_minor": 2
}
